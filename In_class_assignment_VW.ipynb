{
  "nbformat": 4,
  "nbformat_minor": 0,
  "metadata": {
    "colab": {
      "provenance": [],
      "authorship_tag": "ABX9TyM2gtn6GCvds+enY7yTZ9rf",
      "include_colab_link": true
    },
    "kernelspec": {
      "name": "python3",
      "display_name": "Python 3"
    },
    "language_info": {
      "name": "python"
    }
  },
  "cells": [
    {
      "cell_type": "markdown",
      "metadata": {
        "id": "view-in-github",
        "colab_type": "text"
      },
      "source": [
        "<a href=\"https://colab.research.google.com/github/victoirewuyts/BTE320/blob/main/In_class_assignment_VW.ipynb\" target=\"_parent\"><img src=\"https://colab.research.google.com/assets/colab-badge.svg\" alt=\"Open In Colab\"/></a>"
      ]
    },
    {
      "cell_type": "code",
      "source": [
        "#Shape Area Calculator\n",
        "pi = 3.14\n",
        "r = 3\n",
        "h = 10\n",
        "\n",
        "Area = 2 * pi * r ** 2 + 2 * pi * r * h\n",
        "print(Area)"
      ],
      "metadata": {
        "colab": {
          "base_uri": "https://localhost:8080/"
        },
        "id": "KkfXrd-kwn5u",
        "outputId": "90f40225-bf06-46d2-e84f-232ef9cddd01"
      },
      "execution_count": null,
      "outputs": [
        {
          "output_type": "stream",
          "name": "stdout",
          "text": [
            "244.92000000000002\n"
          ]
        }
      ]
    },
    {
      "cell_type": "code",
      "source": [
        "#Rock Paper Scissors Problem\n",
        "play = input('Do you want to play a game? ')\n",
        "\n",
        "while play == 'yes':\n",
        "  p1 = input('Player 1 :: rock, paper, scissors: ')\n",
        "  p2 = input('Player 2 :: rock, paper, scissors: ')\n",
        "\n",
        "  if p1 == p2:\n",
        "    print('Draw')\n",
        "  elif (\n",
        "    (p1 == 'rock' and p2 == 'scissors') or\n",
        "     (p1 == 'scissors' and p2 == 'paper') or\n",
        "      (p1 == 'paper' and p2 == 'rock')\n",
        "      ):\n",
        "    print('Player 1 wins!')\n",
        "  else:\n",
        "    print('Player 2 wins!')\n",
        "play = input('Do you want to play another game? ')\n",
        "\n",
        "print('Have a nice day!')"
      ],
      "metadata": {
        "id": "tkfYuk7VxaIr"
      },
      "execution_count": null,
      "outputs": []
    },
    {
      "cell_type": "code",
      "source": [
        "#Numerical Calculator\n",
        "play = input('Do you want to play a game? ')\n",
        "\n",
        "while play == 'yes':\n",
        "  n1 = float(input('enter first number: '))\n",
        "  n2 = float(input('enter second number: '))\n",
        "  symbol = input('operation (+,-,/,*,**): ')\n",
        "\n",
        "  if symbol == \"+\":\n",
        "    print(n1+n2)\n",
        "\n",
        "  elif symbol == \"-\":\n",
        "    print(n1-n2)\n",
        "\n",
        "  elif symbol == \"/\":\n",
        "    print(n1/n2)\n",
        "\n",
        "  elif symbol == \"*\":\n",
        "    print(n1*n2)\n",
        "\n",
        "  else:\n",
        "    print(n1**n2)\n",
        "\n",
        "  play = input('Do you want to play another game? ')"
      ],
      "metadata": {
        "id": "Q3C76u-M5DSI"
      },
      "execution_count": null,
      "outputs": []
    },
    {
      "cell_type": "code",
      "source": [
        "#Parking Garage\n",
        "flat_rate = 5\n",
        "hourly_rate = 2.5\n",
        "\n",
        "for h in range(1, 9, 1): #leaving (1,9) or (1,9,1) gives the same outcome\n",
        "  charge = flat_rate + hourly_rate * h\n",
        "  if charge < 10:\n",
        "    charge = 10\n",
        "  elif charge > 20:\n",
        "    charge = 20\n",
        "  print(h, charge)\n"
      ],
      "metadata": {
        "id": "NpX09Jzb9SpR",
        "colab": {
          "base_uri": "https://localhost:8080/"
        },
        "outputId": "d368b493-3611-40a8-f742-b8f491c2e53d"
      },
      "execution_count": null,
      "outputs": [
        {
          "output_type": "stream",
          "name": "stdout",
          "text": [
            "1 10\n",
            "2 10.0\n",
            "3 12.5\n",
            "4 15.0\n",
            "5 17.5\n",
            "6 20.0\n",
            "7 20\n",
            "8 20\n"
          ]
        }
      ]
    },
    {
      "cell_type": "code",
      "source": [
        "#same problem but using while loop\n",
        "h = 1\n",
        "\n",
        "while h < 9:\n",
        "  charge = flat_rate + hourly_rate * h\n",
        "  if charge < 10:\n",
        "    charge = 10\n",
        "  elif charge > 20:\n",
        "    charge = 20\n",
        "  print(h, charge)\n",
        "\n",
        "  h = h+1\n"
      ],
      "metadata": {
        "colab": {
          "base_uri": "https://localhost:8080/"
        },
        "id": "NfwaHy1sDAxK",
        "outputId": "81037345-f867-4172-bbc2-ae97d59cae71"
      },
      "execution_count": null,
      "outputs": [
        {
          "output_type": "stream",
          "name": "stdout",
          "text": [
            "1 10\n",
            "2 10.0\n",
            "3 12.5\n",
            "4 15.0\n",
            "5 17.5\n",
            "6 20.0\n",
            "7 20\n",
            "8 20\n"
          ]
        }
      ]
    },
    {
      "cell_type": "code",
      "source": [
        "#Movie theatre\n",
        "ticket_price = 10\n",
        "fixed_cost = 200\n",
        "fixed_attendees = 20\n",
        "\n",
        "for ad in range(0,201,25):\n",
        "  additional_attendees = round(2 * ad ** 0.5)\n",
        "  profit = (fixed_attendees + additional_attendees) * ticket_price - ad - fixed_cost\n",
        "  print(ad, profit)"
      ],
      "metadata": {
        "colab": {
          "base_uri": "https://localhost:8080/"
        },
        "id": "35-E0VbaDT_-",
        "outputId": "536bfb10-34bf-4bbd-9047-e17b9f26a5e4"
      },
      "execution_count": null,
      "outputs": [
        {
          "output_type": "stream",
          "name": "stdout",
          "text": [
            "0 0\n",
            "25 75\n",
            "50 90\n",
            "75 95\n",
            "100 100\n",
            "125 95\n",
            "150 90\n",
            "175 85\n",
            "200 80\n"
          ]
        }
      ]
    },
    {
      "cell_type": "code",
      "source": [
        "#same problem but using while loop\n",
        "ad = 0\n",
        "\n",
        "while ad < 201:\n",
        "  additional_attendees = round(2 * ad ** 0.5)\n",
        "  profit = (fixed_attendees + additional_attendees) * ticket_price - ad - fixed_cost\n",
        "  print(ad, profit)\n",
        "  ad = ad + 25\n",
        "  #remember for a while loop, the condition has to be initialized and updated ('ad = 0' and 'ad = ad + 25')"
      ],
      "metadata": {
        "colab": {
          "base_uri": "https://localhost:8080/"
        },
        "id": "sBZLVVXrJM2I",
        "outputId": "4093c7cc-111f-4e2e-d4b9-a37408b532cb"
      },
      "execution_count": null,
      "outputs": [
        {
          "output_type": "stream",
          "name": "stdout",
          "text": [
            "0 0\n",
            "25 75\n",
            "50 90\n",
            "75 95\n",
            "100 100\n",
            "125 95\n",
            "150 90\n",
            "175 85\n",
            "200 80\n"
          ]
        }
      ]
    }
  ]
}