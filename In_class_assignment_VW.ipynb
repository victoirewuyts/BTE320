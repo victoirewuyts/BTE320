{
  "nbformat": 4,
  "nbformat_minor": 0,
  "metadata": {
    "colab": {
      "provenance": [],
      "authorship_tag": "ABX9TyML952ZVy9/Pk94fRT6zqfD",
      "include_colab_link": true
    },
    "kernelspec": {
      "name": "python3",
      "display_name": "Python 3"
    },
    "language_info": {
      "name": "python"
    }
  },
  "cells": [
    {
      "cell_type": "markdown",
      "metadata": {
        "id": "view-in-github",
        "colab_type": "text"
      },
      "source": [
        "<a href=\"https://colab.research.google.com/github/victoirewuyts/BTE320/blob/main/In_class_assignment_VW.ipynb\" target=\"_parent\"><img src=\"https://colab.research.google.com/assets/colab-badge.svg\" alt=\"Open In Colab\"/></a>"
      ]
    },
    {
      "cell_type": "code",
      "source": [
        "pi = 3.14\n",
        "r = 3\n",
        "h = 10\n",
        "\n",
        "Area = 2 * pi * r ** 2 + 2 * pi * r * h\n",
        "print(Area)"
      ],
      "metadata": {
        "colab": {
          "base_uri": "https://localhost:8080/"
        },
        "id": "KkfXrd-kwn5u",
        "outputId": "90f40225-bf06-46d2-e84f-232ef9cddd01"
      },
      "execution_count": null,
      "outputs": [
        {
          "output_type": "stream",
          "name": "stdout",
          "text": [
            "244.92000000000002\n"
          ]
        }
      ]
    },
    {
      "cell_type": "code",
      "execution_count": null,
      "metadata": {
        "colab": {
          "base_uri": "https://localhost:8080/"
        },
        "id": "P8V5MzXEsdxa",
        "outputId": "bca575ca-cecb-47f2-812e-483bcec079aa"
      },
      "outputs": [
        {
          "output_type": "stream",
          "name": "stdout",
          "text": [
            "Enter rock/paper/scissorsrock\n",
            "Enter rock/paper/scissorspaper\n",
            "player 2 wins\n"
          ]
        }
      ],
      "source": [
        "p1 = input(\"Enter rock/paper/scissors\")\n",
        "p2 = input(\"Enter rock/paper/scissors\")\n",
        "\n",
        "if p1 == p2:\n",
        "  print('Draw')\n",
        "\n",
        "if p1 == \"rock\" and p2 == \"scissors\":\n",
        "   print(\"player 1 wins\")\n",
        "\n",
        "if p1 == \"scissors\" and p2 == \"paper\":\n",
        "   print(\"player 1 wins\")\n",
        "\n",
        "if p1 == \"paper\" and p2 == \"rock\":\n",
        "   print(\"player 1 wins\")\n",
        "\n",
        "else:\n",
        "  print(\"player 2 wins\")\n",
        "\n",
        "\n"
      ]
    },
    {
      "cell_type": "markdown",
      "source": [
        "the values that the input will take are strings (rock, paper, scissors)\n",
        "Then create a conditional structure that informs the gamer who won.\n"
      ],
      "metadata": {
        "id": "lHBDhLhEsl0D"
      }
    },
    {
      "cell_type": "code",
      "source": [
        "p1 = input('Player 1 :: rock, paper, scissors: ')\n",
        "p2 = input('Player 2 :: rock, paper, scissors: ')\n",
        "\n",
        "if p1 == p2:\n",
        "  print('Draw')\n",
        "elif (\n",
        "    (p1 == 'rock' and p2 == 'scissors') or\n",
        "     (p1 == 'scissors' and p2 == 'paper') or\n",
        "      (p1 == 'paper' and p2 == 'rock')\n",
        "     ):\n",
        "     print('Player 1 wins!')\n",
        "else:\n",
        "     print('Player 2 wins!')\n"
      ],
      "metadata": {
        "colab": {
          "base_uri": "https://localhost:8080/"
        },
        "id": "tkfYuk7VxaIr",
        "outputId": "9b42e0ad-7556-47cd-c60d-d4d0950d1717"
      },
      "execution_count": null,
      "outputs": [
        {
          "output_type": "stream",
          "name": "stdout",
          "text": [
            "Player 1 :: rock, paper, scissors: scissors\n",
            "Player 2 :: rock, paper, scissors: paper\n",
            "Player 1 wins!\n"
          ]
        }
      ]
    },
    {
      "cell_type": "code",
      "source": [
        "n1 = float(input('enter first number: '))\n",
        "n2 = float(input('enter second number: '))\n",
        "symbol = input('operation (+,-,/,*,**): ')\n",
        "\n",
        "if symbol == \"+\":\n",
        "  print(n1+n2)\n",
        "\n",
        "elif symbol == \"-\":\n",
        "  print(n1-n2)\n",
        "\n",
        "elif symbol == \"/\":\n",
        "  print(n1/n2)\n",
        "\n",
        "elif symbol == \"*\":\n",
        "  print(n1*n2)\n",
        "\n",
        "else:\n",
        "  print(n1**n2)\n",
        "\n"
      ],
      "metadata": {
        "colab": {
          "base_uri": "https://localhost:8080/"
        },
        "id": "Q3C76u-M5DSI",
        "outputId": "31c791c6-0114-4219-f4e2-f9a95ad29930"
      },
      "execution_count": 4,
      "outputs": [
        {
          "output_type": "stream",
          "name": "stdout",
          "text": [
            "enter first number: 4\n",
            "enter second number: 2\n",
            "operation (+,-,/,*,**): +\n",
            "6.0\n"
          ]
        }
      ]
    }
  ]
}