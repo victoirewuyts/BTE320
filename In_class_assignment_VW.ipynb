{
  "nbformat": 4,
  "nbformat_minor": 0,
  "metadata": {
    "colab": {
      "provenance": [],
      "authorship_tag": "ABX9TyMlP8/bVbArT4/d14lM81Ya",
      "include_colab_link": true
    },
    "kernelspec": {
      "name": "python3",
      "display_name": "Python 3"
    },
    "language_info": {
      "name": "python"
    }
  },
  "cells": [
    {
      "cell_type": "markdown",
      "metadata": {
        "id": "view-in-github",
        "colab_type": "text"
      },
      "source": [
        "<a href=\"https://colab.research.google.com/github/victoirewuyts/BTE320/blob/main/In_class_assignment_VW.ipynb\" target=\"_parent\"><img src=\"https://colab.research.google.com/assets/colab-badge.svg\" alt=\"Open In Colab\"/></a>"
      ]
    },
    {
      "cell_type": "code",
      "source": [
        "#Shape Area Calculator\n",
        "pi = 3.14\n",
        "r = 3\n",
        "h = 10\n",
        "\n",
        "Area = 2 * pi * r ** 2 + 2 * pi * r * h\n",
        "print(Area)"
      ],
      "metadata": {
        "colab": {
          "base_uri": "https://localhost:8080/"
        },
        "id": "KkfXrd-kwn5u",
        "outputId": "90f40225-bf06-46d2-e84f-232ef9cddd01"
      },
      "execution_count": null,
      "outputs": [
        {
          "output_type": "stream",
          "name": "stdout",
          "text": [
            "244.92000000000002\n"
          ]
        }
      ]
    },
    {
      "cell_type": "code",
      "source": [
        "#Rock Paper Scissors Problem\n",
        "play = input('Do you want to play a game? ')\n",
        "\n",
        "while play == 'yes':\n",
        "  p1 = input('Player 1 :: rock, paper, scissors: ')\n",
        "  p2 = input('Player 2 :: rock, paper, scissors: ')\n",
        "\n",
        "  if p1 == p2:\n",
        "    print('Draw')\n",
        "  elif (\n",
        "    (p1 == 'rock' and p2 == 'scissors') or\n",
        "     (p1 == 'scissors' and p2 == 'paper') or\n",
        "      (p1 == 'paper' and p2 == 'rock')\n",
        "      ):\n",
        "    print('Player 1 wins!')\n",
        "  else:\n",
        "    print('Player 2 wins!')\n",
        "play = input('Do you want to play another game? ')\n",
        "\n",
        "print('Have a nice day!')"
      ],
      "metadata": {
        "id": "tkfYuk7VxaIr"
      },
      "execution_count": null,
      "outputs": []
    },
    {
      "cell_type": "code",
      "source": [
        "#Numerical Calculator\n",
        "play = input('Do you want to play a game? ')\n",
        "\n",
        "while play == 'yes':\n",
        "  n1 = float(input('enter first number: '))\n",
        "  n2 = float(input('enter second number: '))\n",
        "  symbol = input('operation (+,-,/,*,**): ')\n",
        "\n",
        "  if symbol == \"+\":\n",
        "    print(n1+n2)\n",
        "\n",
        "  elif symbol == \"-\":\n",
        "    print(n1-n2)\n",
        "\n",
        "  elif symbol == \"/\":\n",
        "    print(n1/n2)\n",
        "\n",
        "  elif symbol == \"*\":\n",
        "    print(n1*n2)\n",
        "\n",
        "  else:\n",
        "    print(n1**n2)\n",
        "\n",
        "  play = input('Do you want to play another game? ')"
      ],
      "metadata": {
        "id": "Q3C76u-M5DSI"
      },
      "execution_count": null,
      "outputs": []
    },
    {
      "cell_type": "code",
      "source": [
        "#Parking Garage\n",
        "flat_rate = 5\n",
        "hourly_rate = 2.5\n",
        "\n",
        "for h in range(1, 9, 1): #leaving (1,9) or (1,9,1) gives the same outcome\n",
        "  charge = flat_rate + hourly_rate * h\n",
        "  if charge < 10:\n",
        "    charge = 10\n",
        "  elif charge > 20:\n",
        "    charge = 20\n",
        "  print(h, charge)\n"
      ],
      "metadata": {
        "id": "NpX09Jzb9SpR",
        "colab": {
          "base_uri": "https://localhost:8080/"
        },
        "outputId": "d368b493-3611-40a8-f742-b8f491c2e53d"
      },
      "execution_count": null,
      "outputs": [
        {
          "output_type": "stream",
          "name": "stdout",
          "text": [
            "1 10\n",
            "2 10.0\n",
            "3 12.5\n",
            "4 15.0\n",
            "5 17.5\n",
            "6 20.0\n",
            "7 20\n",
            "8 20\n"
          ]
        }
      ]
    },
    {
      "cell_type": "code",
      "source": [
        "#same problem but using while loop\n",
        "h = 1\n",
        "\n",
        "while h < 9:\n",
        "  charge = flat_rate + hourly_rate * h\n",
        "  if charge < 10:\n",
        "    charge = 10\n",
        "  elif charge > 20:\n",
        "    charge = 20\n",
        "  print(h, charge)\n",
        "\n",
        "  h = h+1\n"
      ],
      "metadata": {
        "colab": {
          "base_uri": "https://localhost:8080/"
        },
        "id": "NfwaHy1sDAxK",
        "outputId": "81037345-f867-4172-bbc2-ae97d59cae71"
      },
      "execution_count": null,
      "outputs": [
        {
          "output_type": "stream",
          "name": "stdout",
          "text": [
            "1 10\n",
            "2 10.0\n",
            "3 12.5\n",
            "4 15.0\n",
            "5 17.5\n",
            "6 20.0\n",
            "7 20\n",
            "8 20\n"
          ]
        }
      ]
    },
    {
      "cell_type": "code",
      "source": [
        "#Movie theatre\n",
        "ticket_price = 10\n",
        "fixed_cost = 200\n",
        "fixed_attendees = 20\n",
        "\n",
        "for ad in range(0,201,25):\n",
        "  additional_attendees = round(2 * ad ** 0.5)\n",
        "  profit = (fixed_attendees + additional_attendees) * ticket_price - ad - fixed_cost\n",
        "  print(ad, profit)"
      ],
      "metadata": {
        "colab": {
          "base_uri": "https://localhost:8080/"
        },
        "id": "35-E0VbaDT_-",
        "outputId": "536bfb10-34bf-4bbd-9047-e17b9f26a5e4"
      },
      "execution_count": null,
      "outputs": [
        {
          "output_type": "stream",
          "name": "stdout",
          "text": [
            "0 0\n",
            "25 75\n",
            "50 90\n",
            "75 95\n",
            "100 100\n",
            "125 95\n",
            "150 90\n",
            "175 85\n",
            "200 80\n"
          ]
        }
      ]
    },
    {
      "cell_type": "code",
      "source": [
        "#same problem but using while loop\n",
        "ad = 0\n",
        "\n",
        "while ad < 201:\n",
        "  additional_attendees = round(2 * ad ** 0.5)\n",
        "  profit = (fixed_attendees + additional_attendees) * ticket_price - ad - fixed_cost\n",
        "  print(ad, profit)\n",
        "  ad = ad + 25\n",
        "  #remember for a while loop, the condition has to be initialized and updated ('ad = 0' and 'ad = ad + 25')"
      ],
      "metadata": {
        "colab": {
          "base_uri": "https://localhost:8080/"
        },
        "id": "sBZLVVXrJM2I",
        "outputId": "4093c7cc-111f-4e2e-d4b9-a37408b532cb"
      },
      "execution_count": null,
      "outputs": [
        {
          "output_type": "stream",
          "name": "stdout",
          "text": [
            "0 0\n",
            "25 75\n",
            "50 90\n",
            "75 95\n",
            "100 100\n",
            "125 95\n",
            "150 90\n",
            "175 85\n",
            "200 80\n"
          ]
        }
      ]
    },
    {
      "cell_type": "code",
      "source": [
        "#Months2Numbers dictionary\n",
        "months = {}\n",
        "\n",
        "names = [\"Jan\", \"Feb\", \"Mar\", \"Apr\", \"May\", \"Jun\", \"Jul\", \"Aug\", \"Sep\", \"Oct\", \"Nov\", \"Dec\"]\n",
        "numbers = [1,2,3,4,5,6,7,8,9,10,11,12]\n",
        "\n",
        "for idx in numbers:\n",
        "  months[idx] = names[idx-1]\n",
        "months"
      ],
      "metadata": {
        "colab": {
          "base_uri": "https://localhost:8080/"
        },
        "id": "Uu1T1Yuf46fJ",
        "outputId": "85f00644-835c-48ae-c704-11eb0336b6c9"
      },
      "execution_count": null,
      "outputs": [
        {
          "output_type": "execute_result",
          "data": {
            "text/plain": [
              "{1: 'Jan',\n",
              " 2: 'Feb',\n",
              " 3: 'Mar',\n",
              " 4: 'Apr',\n",
              " 5: 'May',\n",
              " 6: 'Jun',\n",
              " 7: 'Jul',\n",
              " 8: 'Aug',\n",
              " 9: 'Sep',\n",
              " 10: 'Oct',\n",
              " 11: 'Nov',\n",
              " 12: 'Dec'}"
            ]
          },
          "metadata": {},
          "execution_count": 4
        }
      ]
    },
    {
      "cell_type": "code",
      "source": [
        "months[3]"
      ],
      "metadata": {
        "colab": {
          "base_uri": "https://localhost:8080/",
          "height": 35
        },
        "id": "19KWVdTR-07u",
        "outputId": "1d9acf23-ecca-4d07-c608-bf25f196cc2c"
      },
      "execution_count": null,
      "outputs": [
        {
          "output_type": "execute_result",
          "data": {
            "text/plain": [
              "'Mar'"
            ],
            "application/vnd.google.colaboratory.intrinsic+json": {
              "type": "string"
            }
          },
          "metadata": {},
          "execution_count": 5
        }
      ]
    },
    {
      "cell_type": "code",
      "source": [
        "#Fee calculation and display functions\n",
        "\n",
        "def calcFee(hours):\n",
        "  fee = 5 + hours * 2.5\n",
        "  return fee\n",
        "\n",
        "h = int(input('Enter number of hours: '))\n",
        "fee = calcFee(h)\n",
        "print(fee)"
      ],
      "metadata": {
        "colab": {
          "base_uri": "https://localhost:8080/"
        },
        "id": "gXCyNYC6-ghJ",
        "outputId": "2ada87e7-f461-4959-f904-fce8865690ea"
      },
      "execution_count": null,
      "outputs": [
        {
          "output_type": "stream",
          "name": "stdout",
          "text": [
            "Enter number of hours: 2\n",
            "10.0\n"
          ]
        }
      ]
    },
    {
      "cell_type": "code",
      "source": [
        "#Fee calculation and display functions - Enhancement\n",
        "\n",
        "def calcFee(hours, decimals=2):\n",
        "  fee = 5 + hours * 2.5\n",
        "  fee = round(fee, decimals)\n",
        "  return fee\n",
        "\n",
        "def displayFee(fee):\n",
        "  print(fee)\n",
        "\n",
        "h = int(input('Enter number of hours: '))\n",
        "displayFee(calcFee(h))"
      ],
      "metadata": {
        "colab": {
          "base_uri": "https://localhost:8080/"
        },
        "id": "N2-dCnQACk_a",
        "outputId": "8ceacfc0-905e-4e38-80e8-28f97d25d86e"
      },
      "execution_count": null,
      "outputs": [
        {
          "output_type": "stream",
          "name": "stdout",
          "text": [
            "Enter number of hours: 4\n",
            "15.0\n"
          ]
        }
      ]
    },
    {
      "cell_type": "code",
      "source": [
        "#Recursion Problem\n",
        "def reverse(s):\n",
        "  if len(s) == 1:\n",
        "    return s\n",
        "  else:\n",
        "    return s[-1] + reverse(s[1:-1]) + s[0]\n",
        "\n",
        "reverse('Hello')"
      ],
      "metadata": {
        "colab": {
          "base_uri": "https://localhost:8080/",
          "height": 35
        },
        "id": "kRaGkNoSHamr",
        "outputId": "bd8bf323-86a7-4ca9-ad98-b91b7bbc60fb"
      },
      "execution_count": null,
      "outputs": [
        {
          "output_type": "execute_result",
          "data": {
            "text/plain": [
              "'olleH'"
            ],
            "application/vnd.google.colaboratory.intrinsic+json": {
              "type": "string"
            }
          },
          "metadata": {},
          "execution_count": 1
        }
      ]
    },
    {
      "cell_type": "code",
      "source": [
        "def wAvg(L,w):\n",
        "  try:\n",
        "    res = []\n",
        "    for i in range(len(L)):\n",
        "      res.append(L[i] * w[i])\n",
        "    return sum(res) / sum(w)\n",
        "  except ZeroDivisionError:\n",
        "    print('Divided by zero')\n",
        "    return []\n",
        "  except TypeError:\n",
        "    print('Non-numerical object found')\n",
        "    return []\n",
        "  except Exception as e:\n",
        "    print(f'Unknown error: {e}')\n",
        "    return float('nan')\n",
        "wAvg([1,2,3],[.2,0,-.2])"
      ],
      "metadata": {
        "colab": {
          "base_uri": "https://localhost:8080/"
        },
        "id": "RAU2O6F_flML",
        "outputId": "2b2a19ba-43cc-4122-c8e7-560ac2672488"
      },
      "execution_count": null,
      "outputs": [
        {
          "output_type": "stream",
          "name": "stdout",
          "text": [
            "Divided by zero\n"
          ]
        },
        {
          "output_type": "execute_result",
          "data": {
            "text/plain": [
              "[]"
            ]
          },
          "metadata": {},
          "execution_count": 3
        }
      ]
    },
    {
      "cell_type": "code",
      "source": [
        "#Student class\n",
        "class Student:\n",
        "  def __init__(self, name, number):\n",
        "    self.name = name\n",
        "    self.number = number\n",
        "    self.__courses = []\n",
        "\n",
        "  def enroll(self,newCourse):\n",
        "    if newCourse not in self.__courses:\n",
        "      self.__courses.append(newCourse)\n",
        "    else:\n",
        "      print(f'You have already enrolled in {newCourse}')\n",
        "\n",
        "  def get_courses(self):\n",
        "    return self.__courses\n",
        "\n",
        "class GradStudent(Student):\n",
        "  def __init__(self, name, number, stipend):\n",
        "    super().__init__(name, number)\n",
        "    self.stipend = stipend\n",
        "\n",
        "  def set_stipend(self, newStipend):\n",
        "    self.stipend = newStipend\n",
        "\n",
        "  def get_stipend(self):\n",
        "    return self.stipend"
      ],
      "metadata": {
        "id": "hQKOOUadYki5"
      },
      "execution_count": 2,
      "outputs": []
    },
    {
      "cell_type": "code",
      "source": [
        "s = Student('Bob', '12345')\n",
        "g = GradStudent('Alice', '456', 2000)"
      ],
      "metadata": {
        "id": "YEbWpJ0Mxdlw"
      },
      "execution_count": 3,
      "outputs": []
    },
    {
      "cell_type": "code",
      "source": [
        "s.enroll('ABC789')"
      ],
      "metadata": {
        "id": "yIbphOv3xhTw"
      },
      "execution_count": null,
      "outputs": []
    },
    {
      "cell_type": "code",
      "source": [
        "s.get_courses()"
      ],
      "metadata": {
        "colab": {
          "base_uri": "https://localhost:8080/"
        },
        "id": "B-jVQFjnx3g8",
        "outputId": "86e2926c-594b-4bba-b257-da208243dbb7"
      },
      "execution_count": null,
      "outputs": [
        {
          "output_type": "execute_result",
          "data": {
            "text/plain": [
              "['ABC789']"
            ]
          },
          "metadata": {},
          "execution_count": 22
        }
      ]
    },
    {
      "cell_type": "code",
      "source": [
        "s1 = Student(\"Brock Purdy\", 13)\n",
        "s2 = Student(\"Jake Moody\", 4)\n",
        "\n",
        "print(s1.name)\n",
        "print(s2.name)"
      ],
      "metadata": {
        "colab": {
          "base_uri": "https://localhost:8080/"
        },
        "id": "htWF61EpYyOB",
        "outputId": "95907306-7e27-4b8e-9c39-bd5e4778236a"
      },
      "execution_count": null,
      "outputs": [
        {
          "output_type": "stream",
          "name": "stdout",
          "text": [
            "Brock Purdy\n",
            "Jake Moody\n"
          ]
        }
      ]
    }
  ]
}