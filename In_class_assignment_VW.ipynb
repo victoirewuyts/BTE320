{
  "nbformat": 4,
  "nbformat_minor": 0,
  "metadata": {
    "colab": {
      "provenance": [],
      "authorship_tag": "ABX9TyPCAXTd1o2RW/IHLSOCCS15",
      "include_colab_link": true
    },
    "kernelspec": {
      "name": "python3",
      "display_name": "Python 3"
    },
    "language_info": {
      "name": "python"
    }
  },
  "cells": [
    {
      "cell_type": "markdown",
      "metadata": {
        "id": "view-in-github",
        "colab_type": "text"
      },
      "source": [
        "<a href=\"https://colab.research.google.com/github/victoirewuyts/BTE320/blob/main/In_class_assignment_VW.ipynb\" target=\"_parent\"><img src=\"https://colab.research.google.com/assets/colab-badge.svg\" alt=\"Open In Colab\"/></a>"
      ]
    },
    {
      "cell_type": "code",
      "source": [
        "#Area Problem\n",
        "pi = 3.14\n",
        "r = 3\n",
        "h = 10\n",
        "\n",
        "Area = 2 * pi * r ** 2 + 2 * pi * r * h\n",
        "print(Area)"
      ],
      "metadata": {
        "colab": {
          "base_uri": "https://localhost:8080/"
        },
        "id": "KkfXrd-kwn5u",
        "outputId": "90f40225-bf06-46d2-e84f-232ef9cddd01"
      },
      "execution_count": null,
      "outputs": [
        {
          "output_type": "stream",
          "name": "stdout",
          "text": [
            "244.92000000000002\n"
          ]
        }
      ]
    },
    {
      "cell_type": "code",
      "execution_count": null,
      "metadata": {
        "colab": {
          "base_uri": "https://localhost:8080/"
        },
        "id": "P8V5MzXEsdxa",
        "outputId": "bca575ca-cecb-47f2-812e-483bcec079aa"
      },
      "outputs": [
        {
          "output_type": "stream",
          "name": "stdout",
          "text": [
            "Enter rock/paper/scissorsrock\n",
            "Enter rock/paper/scissorspaper\n",
            "player 2 wins\n"
          ]
        }
      ],
      "source": [
        "p1 = input(\"Enter rock/paper/scissors\")\n",
        "p2 = input(\"Enter rock/paper/scissors\")\n",
        "\n",
        "if p1 == p2:\n",
        "  print('Draw')\n",
        "\n",
        "if p1 == \"rock\" and p2 == \"scissors\":\n",
        "   print(\"player 1 wins\")\n",
        "\n",
        "if p1 == \"scissors\" and p2 == \"paper\":\n",
        "   print(\"player 1 wins\")\n",
        "\n",
        "if p1 == \"paper\" and p2 == \"rock\":\n",
        "   print(\"player 1 wins\")\n",
        "\n",
        "else:\n",
        "  print(\"player 2 wins\")\n",
        "\n",
        "\n"
      ]
    },
    {
      "cell_type": "markdown",
      "source": [
        "the values that the input will take are strings (rock, paper, scissors)\n",
        "Then create a conditional structure that informs the gamer who won.\n"
      ],
      "metadata": {
        "id": "lHBDhLhEsl0D"
      }
    },
    {
      "cell_type": "code",
      "source": [
        "#Rock Paper Scissors Problem\n",
        "play = input('Do you want to play a game? ')\n",
        "\n",
        "while play == 'yes':\n",
        "  p1 = input('Player 1 :: rock, paper, scissors: ')\n",
        "  p2 = input('Player 2 :: rock, paper, scissors: ')\n",
        "\n",
        "  if p1 == p2:\n",
        "    print('Draw')\n",
        "  elif (\n",
        "    (p1 == 'rock' and p2 == 'scissors') or\n",
        "     (p1 == 'scissors' and p2 == 'paper') or\n",
        "      (p1 == 'paper' and p2 == 'rock')\n",
        "      ):\n",
        "    print('Player 1 wins!')\n",
        "  else:\n",
        "    print('Player 2 wins!')\n",
        "play = input('Do you want to play another game? ')\n",
        "\n",
        "print('Have a nice day!')"
      ],
      "metadata": {
        "id": "tkfYuk7VxaIr",
        "colab": {
          "base_uri": "https://localhost:8080/",
          "height": 418
        },
        "outputId": "6a780c7e-ce5d-493d-b057-1dfa56e1d3eb"
      },
      "execution_count": 2,
      "outputs": [
        {
          "name": "stdout",
          "output_type": "stream",
          "text": [
            "Player 2 wins!\n",
            "Draw\n",
            "Player 1 :: rock, paper, scissors: no\n"
          ]
        },
        {
          "output_type": "error",
          "ename": "KeyboardInterrupt",
          "evalue": "Interrupted by user",
          "traceback": [
            "\u001b[0;31m---------------------------------------------------------------------------\u001b[0m",
            "\u001b[0;31mKeyboardInterrupt\u001b[0m                         Traceback (most recent call last)",
            "\u001b[0;32m<ipython-input-2-614e4c62ab26>\u001b[0m in \u001b[0;36m<cell line: 3>\u001b[0;34m()\u001b[0m\n\u001b[1;32m      3\u001b[0m \u001b[0;32mwhile\u001b[0m \u001b[0mplay\u001b[0m \u001b[0;34m==\u001b[0m \u001b[0;34m'yes'\u001b[0m\u001b[0;34m:\u001b[0m\u001b[0;34m\u001b[0m\u001b[0;34m\u001b[0m\u001b[0m\n\u001b[1;32m      4\u001b[0m   \u001b[0mp1\u001b[0m \u001b[0;34m=\u001b[0m \u001b[0minput\u001b[0m\u001b[0;34m(\u001b[0m\u001b[0;34m'Player 1 :: rock, paper, scissors: '\u001b[0m\u001b[0;34m)\u001b[0m\u001b[0;34m\u001b[0m\u001b[0;34m\u001b[0m\u001b[0m\n\u001b[0;32m----> 5\u001b[0;31m   \u001b[0mp2\u001b[0m \u001b[0;34m=\u001b[0m \u001b[0minput\u001b[0m\u001b[0;34m(\u001b[0m\u001b[0;34m'Player 2 :: rock, paper, scissors: '\u001b[0m\u001b[0;34m)\u001b[0m\u001b[0;34m\u001b[0m\u001b[0;34m\u001b[0m\u001b[0m\n\u001b[0m\u001b[1;32m      6\u001b[0m \u001b[0;34m\u001b[0m\u001b[0m\n\u001b[1;32m      7\u001b[0m   \u001b[0;32mif\u001b[0m \u001b[0mp1\u001b[0m \u001b[0;34m==\u001b[0m \u001b[0mp2\u001b[0m\u001b[0;34m:\u001b[0m\u001b[0;34m\u001b[0m\u001b[0;34m\u001b[0m\u001b[0m\n",
            "\u001b[0;32m/usr/local/lib/python3.10/dist-packages/ipykernel/kernelbase.py\u001b[0m in \u001b[0;36mraw_input\u001b[0;34m(self, prompt)\u001b[0m\n\u001b[1;32m    849\u001b[0m                 \u001b[0;34m\"raw_input was called, but this frontend does not support input requests.\"\u001b[0m\u001b[0;34m\u001b[0m\u001b[0;34m\u001b[0m\u001b[0m\n\u001b[1;32m    850\u001b[0m             )\n\u001b[0;32m--> 851\u001b[0;31m         return self._input_request(str(prompt),\n\u001b[0m\u001b[1;32m    852\u001b[0m             \u001b[0mself\u001b[0m\u001b[0;34m.\u001b[0m\u001b[0m_parent_ident\u001b[0m\u001b[0;34m,\u001b[0m\u001b[0;34m\u001b[0m\u001b[0;34m\u001b[0m\u001b[0m\n\u001b[1;32m    853\u001b[0m             \u001b[0mself\u001b[0m\u001b[0;34m.\u001b[0m\u001b[0m_parent_header\u001b[0m\u001b[0;34m,\u001b[0m\u001b[0;34m\u001b[0m\u001b[0;34m\u001b[0m\u001b[0m\n",
            "\u001b[0;32m/usr/local/lib/python3.10/dist-packages/ipykernel/kernelbase.py\u001b[0m in \u001b[0;36m_input_request\u001b[0;34m(self, prompt, ident, parent, password)\u001b[0m\n\u001b[1;32m    893\u001b[0m             \u001b[0;32mexcept\u001b[0m \u001b[0mKeyboardInterrupt\u001b[0m\u001b[0;34m:\u001b[0m\u001b[0;34m\u001b[0m\u001b[0;34m\u001b[0m\u001b[0m\n\u001b[1;32m    894\u001b[0m                 \u001b[0;31m# re-raise KeyboardInterrupt, to truncate traceback\u001b[0m\u001b[0;34m\u001b[0m\u001b[0;34m\u001b[0m\u001b[0m\n\u001b[0;32m--> 895\u001b[0;31m                 \u001b[0;32mraise\u001b[0m \u001b[0mKeyboardInterrupt\u001b[0m\u001b[0;34m(\u001b[0m\u001b[0;34m\"Interrupted by user\"\u001b[0m\u001b[0;34m)\u001b[0m \u001b[0;32mfrom\u001b[0m \u001b[0;32mNone\u001b[0m\u001b[0;34m\u001b[0m\u001b[0;34m\u001b[0m\u001b[0m\n\u001b[0m\u001b[1;32m    896\u001b[0m             \u001b[0;32mexcept\u001b[0m \u001b[0mException\u001b[0m \u001b[0;32mas\u001b[0m \u001b[0me\u001b[0m\u001b[0;34m:\u001b[0m\u001b[0;34m\u001b[0m\u001b[0;34m\u001b[0m\u001b[0m\n\u001b[1;32m    897\u001b[0m                 \u001b[0mself\u001b[0m\u001b[0;34m.\u001b[0m\u001b[0mlog\u001b[0m\u001b[0;34m.\u001b[0m\u001b[0mwarning\u001b[0m\u001b[0;34m(\u001b[0m\u001b[0;34m\"Invalid Message:\"\u001b[0m\u001b[0;34m,\u001b[0m \u001b[0mexc_info\u001b[0m\u001b[0;34m=\u001b[0m\u001b[0;32mTrue\u001b[0m\u001b[0;34m)\u001b[0m\u001b[0;34m\u001b[0m\u001b[0;34m\u001b[0m\u001b[0m\n",
            "\u001b[0;31mKeyboardInterrupt\u001b[0m: Interrupted by user"
          ]
        }
      ]
    },
    {
      "cell_type": "code",
      "source": [
        "#Calculator problem\n",
        "play = input('Do you want to play a game? ')\n",
        "\n",
        "while play == 'yes':\n",
        "  n1 = float(input('enter first number: '))\n",
        "  n2 = float(input('enter second number: '))\n",
        "  symbol = input('operation (+,-,/,*,**): ')\n",
        "\n",
        "  if symbol == \"+\":\n",
        "    print(n1+n2)\n",
        "\n",
        "  elif symbol == \"-\":\n",
        "    print(n1-n2)\n",
        "\n",
        "  elif symbol == \"/\":\n",
        "    print(n1/n2)\n",
        "\n",
        "  elif symbol == \"*\":\n",
        "    print(n1*n2)\n",
        "\n",
        "  else:\n",
        "    print(n1**n2)\n",
        "\n",
        "  play = input('Do you want to play another game? ')"
      ],
      "metadata": {
        "id": "Q3C76u-M5DSI"
      },
      "execution_count": null,
      "outputs": []
    },
    {
      "cell_type": "code",
      "source": [
        "#Parking garage Problem - in class 09/18\n",
        "flat_rate = 5\n",
        "hourly_rate = 2.5\n",
        "\n",
        "for h in range(1, 9, 1): #leaving (1,9) or (1,9,1) gives the same outcome\n",
        "  charge = flat_rate + hourly_rate * h\n",
        "  if charge < 10:\n",
        "    charge = 10\n",
        "  elif charge > 20:\n",
        "    charge = 20\n",
        "  print(h, charge)\n"
      ],
      "metadata": {
        "id": "NpX09Jzb9SpR",
        "colab": {
          "base_uri": "https://localhost:8080/"
        },
        "outputId": "d368b493-3611-40a8-f742-b8f491c2e53d"
      },
      "execution_count": 1,
      "outputs": [
        {
          "output_type": "stream",
          "name": "stdout",
          "text": [
            "1 10\n",
            "2 10.0\n",
            "3 12.5\n",
            "4 15.0\n",
            "5 17.5\n",
            "6 20.0\n",
            "7 20\n",
            "8 20\n"
          ]
        }
      ]
    },
    {
      "cell_type": "code",
      "source": [
        "#same problem but using while loop\n",
        "h = 1\n",
        "\n",
        "while h < 9:\n",
        "  charge = flat_rate + hourly_rate * h\n",
        "  if charge < 10:\n",
        "    charge = 10\n",
        "  elif charge > 20:\n",
        "    charge = 20\n",
        "  print(h, charge)\n",
        "\n",
        "  h = h+1\n"
      ],
      "metadata": {
        "colab": {
          "base_uri": "https://localhost:8080/"
        },
        "id": "NfwaHy1sDAxK",
        "outputId": "81037345-f867-4172-bbc2-ae97d59cae71"
      },
      "execution_count": 3,
      "outputs": [
        {
          "output_type": "stream",
          "name": "stdout",
          "text": [
            "1 10\n",
            "2 10.0\n",
            "3 12.5\n",
            "4 15.0\n",
            "5 17.5\n",
            "6 20.0\n",
            "7 20\n",
            "8 20\n"
          ]
        }
      ]
    },
    {
      "cell_type": "code",
      "source": [
        "#Movie theatre Problem - In class 09/18\n",
        "ticket_price = 10\n",
        "fixed_cost = 200\n",
        "fixed_attendees = 20\n",
        "\n",
        "for ad in range(0,201,25):\n",
        "  additional_attendees = round(2 * ad ** 0.5)\n",
        "  profit = (fixed_attendees + additional_attendees) * ticket_price - ad - fixed_cost\n",
        "  print(ad, profit)"
      ],
      "metadata": {
        "colab": {
          "base_uri": "https://localhost:8080/"
        },
        "id": "35-E0VbaDT_-",
        "outputId": "536bfb10-34bf-4bbd-9047-e17b9f26a5e4"
      },
      "execution_count": 5,
      "outputs": [
        {
          "output_type": "stream",
          "name": "stdout",
          "text": [
            "0 0\n",
            "25 75\n",
            "50 90\n",
            "75 95\n",
            "100 100\n",
            "125 95\n",
            "150 90\n",
            "175 85\n",
            "200 80\n"
          ]
        }
      ]
    },
    {
      "cell_type": "code",
      "source": [
        "#same problem but using while loop\n",
        "ad = 0\n",
        "\n",
        "while ad < 201:\n",
        "  additional_attendees = round(2 * ad ** 0.5)\n",
        "  profit = (fixed_attendees + additional_attendees) * ticket_price - ad - fixed_cost\n",
        "  print(ad, profit)\n",
        "  ad = ad + 25\n",
        "  #remember for a while loop, the condition has to be initialized and updated ('ad = 0' and 'ad = ad + 25')"
      ],
      "metadata": {
        "colab": {
          "base_uri": "https://localhost:8080/"
        },
        "id": "sBZLVVXrJM2I",
        "outputId": "4093c7cc-111f-4e2e-d4b9-a37408b532cb"
      },
      "execution_count": 7,
      "outputs": [
        {
          "output_type": "stream",
          "name": "stdout",
          "text": [
            "0 0\n",
            "25 75\n",
            "50 90\n",
            "75 95\n",
            "100 100\n",
            "125 95\n",
            "150 90\n",
            "175 85\n",
            "200 80\n"
          ]
        }
      ]
    },
    {
      "cell_type": "code",
      "source": [
        "i = 0\n",
        "\n",
        "while True:\n",
        "  i = i + 1\n",
        "  if i == 10:\n",
        "    break\n",
        "  print(i, end= ' ')\n",
        "\n",
        "print('Done.')"
      ],
      "metadata": {
        "colab": {
          "base_uri": "https://localhost:8080/"
        },
        "id": "XsrtJ8CWKrzA",
        "outputId": "fed2b67d-e9b4-46e3-b2c8-696e3e172592"
      },
      "execution_count": 17,
      "outputs": [
        {
          "output_type": "stream",
          "name": "stdout",
          "text": [
            "1 2 3 4 5 6 7 8 9 Done.\n"
          ]
        }
      ]
    },
    {
      "cell_type": "code",
      "source": [
        "for i in range(1000000000):\n",
        "  if i == 10:\n",
        "      break #the word 'continue' would move to the next iteration and 'break' would exit the loop process entirely\n",
        "  print(i, end=' ')\n",
        "print('Done.')"
      ],
      "metadata": {
        "colab": {
          "base_uri": "https://localhost:8080/"
        },
        "id": "ZGNPiNwDMEfr",
        "outputId": "c74865b7-7f33-4dc2-c676-a60034acd6a1"
      },
      "execution_count": 18,
      "outputs": [
        {
          "output_type": "stream",
          "name": "stdout",
          "text": [
            "0 1 2 3 4 5 6 7 8 9 Done.\n"
          ]
        }
      ]
    }
  ]
}