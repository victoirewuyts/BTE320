{
  "cells": [
    {
      "cell_type": "markdown",
      "metadata": {
        "id": "view-in-github",
        "colab_type": "text"
      },
      "source": [
        "<a href=\"https://colab.research.google.com/github/victoirewuyts/BTE320/blob/main/inClassAssignments_9_10_2024.ipynb\" target=\"_parent\"><img src=\"https://colab.research.google.com/assets/colab-badge.svg\" alt=\"Open In Colab\"/></a>"
      ]
    },
    {
      "cell_type": "markdown",
      "metadata": {
        "id": "vplIY7QxfpD7"
      },
      "source": [
        "## Assignment 1: House hunting\n",
        "\n",
        "Suppose that you want to start saving to buy a house. To do that, you rneed to save for a few years before you can afford to make the down payment. In this assignment, you have to determine how long it will take you to save enough money to make the down payment given the following assumptions:\n",
        "\n",
        "1. Let the cost of the house be `total_cost`.\n",
        "2. Let the portion of the cost needed for a down payment be `portion_down_payment`. For simplicity, assume that `portion_down_payment = 0.25 (25%)`.\n",
        "3. Let the amount that you have saved thus far be `current_savings`. You start with a current savings of $0$ dollars.\n",
        "4. Assume that you invest your current savings wisely, with an annual return of `r` (in other words, at the end of each month, you receive an additional `current_savings*r/12` funds to put into your savings – the 12 is because `r` is an annual rate). Assume that your investments earn a return of `r = 0.04 (4%)`.\n",
        "5. Assume your annual salary is `annual_salary`.\n",
        "6. Assume you are going to dedicate a certain amount of your salary each month to saving for the down payment. Let that be `portion_saved`. This variable should be in decimal form (i.e. 0.1 for 10%).\n",
        "7. At the end of each month, your savings will be increased by the return on your investment, plus a percentage of your monthly salary (annual salary / 12).\n",
        "8. Be careful about values that represent annual amounts and those that represent monthly amounts.\n",
        "\n",
        "Write a program to calculate how many months it will take you to save up enough money for a down payment.\n",
        "\n",
        "Your program should ask the user to enter values for the following variables:\n",
        "1. The starting annual salary (`annual_salary`)\n",
        "2. The portion of salary to be saved (`portion_saved`)\n",
        "3. The cost of your dream home (`total_cost`)\n",
        "\n",
        "**Hints:** To help you get started, here is a rough outline of the stages you should probably follow in writing your code:\n",
        "- Use user inputs. For this problem set, you can assume that users will enter valid input (e.g. they won’t enter a `str` when you expect an `int`)\n",
        "- Initialize some state variables. You should decide what information you need. Again, make sure you distinguish between annual and monthly amounts.\n",
        "\n",
        "Printouts should be like:\n",
        "\n",
        "<span style=\"color:blue\">Enter your annual salary:</span> 120000\n",
        "    \n",
        "<span style=\"color:blue\">Enter the percent of your salary to save, as a decimal:</span> .10\n",
        "    \n",
        "<span style=\"color:blue\">Enter the cost of your dream home:</span> 1000000\n",
        "    \n",
        "<span style=\"color:blue\">Number of months:</span> 183"
      ]
    },
    {
      "cell_type": "markdown",
      "source": [
        "**Assignment 1**"
      ],
      "metadata": {
        "id": "jAmbla77JePV"
      }
    },
    {
      "cell_type": "code",
      "source": [
        "annual_salary = float(input(\"Enter your annual salary: \"))\n",
        "portion_saved = float(input(\"Enter the percent of your salary to save, as a decimal: \"))\n",
        "total_cost = float(input(\"Enter the cost of your dream home: \"))\n",
        "\n",
        "portion_down_payment = 0.25  # 25% of the total cost for down payment\n",
        "current_savings = 0.0  # Start with no savings\n",
        "r = 0.04  # Annual return rate on savings\n",
        "\n",
        "# Calculate the down payment\n",
        "down_payment = total_cost * portion_down_payment\n",
        "\n",
        "# Initialize other variables\n",
        "monthly_salary = annual_salary / 12  # Monthly salary\n",
        "months = 0\n",
        "\n",
        "# Loop until current savings reach down payment amount\n",
        "while current_savings < down_payment:\n",
        "    # Calculate monthly return on investment and monthly savings\n",
        "    current_savings += current_savings * (r / 12)  # Monthly return\n",
        "    current_savings += monthly_salary * portion_saved  # Monthly savings from salary\n",
        "    months += 1\n",
        "\n",
        "# Output the number of months required\n",
        "print(\"Number of months:\", months)"
      ],
      "metadata": {
        "id": "BAbAT1h0Jawf"
      },
      "execution_count": null,
      "outputs": []
    },
    {
      "cell_type": "markdown",
      "metadata": {
        "id": "PsmCJbaTfpD8"
      },
      "source": [
        "## Assignment 2: Saving with raise\n",
        "\n",
        "Modify the previous program to include the following:\n",
        "1. Have the user input a semi-annual salary raise `semi_annual_raise` (as a decimal percentage)\n",
        "2. After the 6th month, increase your *annual salary* by that percentage. Do the same after the 12th month, the 18th month, and so on.\n",
        "    * **Hint:** Use the mod (\\%) operator\n",
        "\n",
        "Printouts should be like:\n",
        "\n",
        "<span style=\"color:blue\">Enter your annual salary:</span> 120000\n",
        "    \n",
        "<span style=\"color:blue\">Enter the percent of your salary to save, as a decimal:</span> . 05\n",
        "    \n",
        "<span style=\"color:blue\">Enter the cost of your dream home:</span> 500000\n",
        "\n",
        "<span style=\"color:blue\">Enter the semi-annual raise, as a decimal:</span> .03\n",
        "    \n",
        "<span style=\"color:blue\">Number of months:</span> 142"
      ]
    },
    {
      "cell_type": "markdown",
      "source": [
        "**Assignment 2**"
      ],
      "metadata": {
        "id": "tF-07mB5JgPy"
      }
    },
    {
      "cell_type": "code",
      "source": [
        "annual_salary = float(input(\"Enter your annual salary: \"))\n",
        "portion_saved = float(input(\"Enter the percent of your salary to save, as a decimal: \"))\n",
        "total_cost = float(input(\"Enter the cost of your dream home: \"))\n",
        "semi_annual_raise = float(input(\"Enter the semi-annual raise, as a decimal: \"))\n",
        "\n",
        "portion_down_payment = 0.25  # 25% of the total cost for down payment\n",
        "current_savings = 0.0  # Start with no savings\n",
        "r = 0.04  # Annual return rate on savings\n",
        "\n",
        "# Calculate the down payment\n",
        "down_payment = total_cost * portion_down_payment\n",
        "\n",
        "# Initialize other variables\n",
        "monthly_salary = annual_salary / 12  # Monthly salary\n",
        "months = 0\n",
        "\n",
        "# Loop until current savings reach down payment amount\n",
        "while current_savings < down_payment:\n",
        "    # Add monthly return on investment and monthly savings from salary\n",
        "    current_savings += current_savings * (r / 12)  # Monthly return\n",
        "    current_savings += monthly_salary * portion_saved  # Monthly savings from salary\n",
        "    months += 1\n",
        "\n",
        "    # Apply the semi-annual raise every 6 months\n",
        "    if months % 6 == 0:\n",
        "        monthly_salary += monthly_salary * semi_annual_raise\n",
        "\n",
        "# Output the number of months required\n",
        "print(\"Number of months:\", months)"
      ],
      "metadata": {
        "id": "P8edJ4-HJcKh"
      },
      "execution_count": null,
      "outputs": []
    },
    {
      "cell_type": "markdown",
      "metadata": {
        "id": "_3_w186OfpD9"
      },
      "source": [
        "## Assignment 3: Check if a number is within a range\n",
        "\n",
        "Write a function that checks whether a number is in a given range.\n",
        "\n",
        "This assignment is rather simple, you will need to include a conditional within the function body to see if the given number does belong to the given range.\n",
        "\n",
        "You have to approach the solution to this assignment in two ways. In the first approach, your function will print out the result, whereas in the second, you have to use boolean return values.\n",
        "\n",
        "**Example:** name your function `range_check` and build it to get three arguments: a) the number in question, b) the low end of the range, and c) the high end of the range."
      ]
    },
    {
      "cell_type": "markdown",
      "source": [
        "**Assignment 3**"
      ],
      "metadata": {
        "id": "3mzuIePtJiH3"
      }
    },
    {
      "cell_type": "code",
      "source": [
        "def range_check(number, low, high):\n",
        "    if low <= number <= high:\n",
        "        print(f\"{number} is in the range between {low} and {high}.\")\n",
        "    else:\n",
        "        print(f\"{number} is not in the range between {low} and {high}.\")\n",
        "\n",
        "range_check(4, 3, 12)"
      ],
      "metadata": {
        "id": "iEPeysAMg6ve",
        "colab": {
          "base_uri": "https://localhost:8080/"
        },
        "outputId": "b3fe86d6-443c-4637-b7fc-3addf63eacd8"
      },
      "execution_count": null,
      "outputs": [
        {
          "output_type": "stream",
          "name": "stdout",
          "text": [
            "4 is in the range between 3 and 12.\n"
          ]
        }
      ]
    }
  ],
  "metadata": {
    "kernelspec": {
      "display_name": "Python 3",
      "language": "python",
      "name": "python3"
    },
    "language_info": {
      "codemirror_mode": {
        "name": "ipython",
        "version": 3
      },
      "file_extension": ".py",
      "mimetype": "text/x-python",
      "name": "python",
      "nbconvert_exporter": "python",
      "pygments_lexer": "ipython3",
      "version": "3.8.8"
    },
    "colab": {
      "provenance": [],
      "include_colab_link": true
    }
  },
  "nbformat": 4,
  "nbformat_minor": 0
}